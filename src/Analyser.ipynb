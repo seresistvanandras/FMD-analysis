{
 "cells": [
  {
   "cell_type": "code",
   "execution_count": 1,
   "metadata": {},
   "outputs": [],
   "source": [
    "import networkx as nx\n",
    "import numpy as np\n",
    "import scipy.stats\n",
    "from tqdm.notebook import tqdm\n",
    "import collections\n",
    "import matplotlib.pyplot as plt\n",
    "import matplotlib.dates as md\n",
    "import pandas as pd\n",
    "import seaborn as sns\n",
    "import random\n",
    "import json\n",
    "import pickle\n",
    "import math\n",
    "import re\n",
    "import datetime\n",
    "import matplotlib.dates as mdates\n",
    "from scipy.special import comb"
   ]
  },
  {
   "cell_type": "code",
   "execution_count": 2,
   "metadata": {},
   "outputs": [
    {
     "data": {
      "application/vnd.jupyter.widget-view+json": {
       "model_id": "ad6036e9818f4172addf0e039ae1380b",
       "version_major": 2,
       "version_minor": 0
      },
      "text/plain": [
       "  0%|          | 0/332334 [00:00<?, ?it/s]"
      ]
     },
     "metadata": {},
     "output_type": "display_data"
    },
    {
     "name": "stdout",
     "output_type": "stream",
     "text": [
      "There were 332334 lines in the file!\n"
     ]
    }
   ],
   "source": [
    "#file1 = open('../datasets/CollegeMsg.txt', 'r')\n",
    "file2 = open('../datasets/email-Eu-core-temporal.txt','r')\n",
    "Lines = file2.readlines()\n",
    "Lines2 = file2.readlines()\n",
    "\n",
    "#G.clear()\n",
    "G = nx.MultiDiGraph()\n",
    "\n",
    "count = 0\n",
    "for line in tqdm(Lines):\n",
    "    count += 1\n",
    "    myLine = line.split(',')\n",
    "    if myLine[0] not in G:\n",
    "        G.add_node(myLine[0],falsePos=1)\n",
    "    if myLine[1] not in G:\n",
    "        G.add_node(myLine[1],falsePos=1)\n",
    "    G.add_edge(myLine[0],myLine[1], weight=myLine[2])\n",
    "print(\"There were\",count,\"lines in the file!\")##in our datasets lines correspond to sent messages in the communication system\n",
    "\n",
    "#count = 0\n",
    "#I = nx.MultiDiGraph()\n",
    "#for line in tqdm(Lines2):\n",
    "#    count += 1\n",
    "#    myLine = line.split(',')\n",
    "#    if myLine[0] not in I:\n",
    "#        I.add_node(myLine[0],falsePos=1)\n",
    "#    if myLine[1] not in G:\n",
    "#        I.add_node(myLine[1],falsePos=1)\n",
    "#    I.add_edge(myLine[0],myLine[1], weight=myLine[2])\n",
    "#print(\"There were\",count,\"lines in the 2nd file!\")"
   ]
  },
  {
   "cell_type": "code",
   "execution_count": 3,
   "metadata": {},
   "outputs": [
    {
     "name": "stdout",
     "output_type": "stream",
     "text": [
      "Number of nodes :  986\n",
      "Number of edges:  332334\n",
      "Density of the transaction graph:  0.34218552115402434\n"
     ]
    }
   ],
   "source": [
    "print(\"Number of nodes : \", G.order()) ##number of communicating parties \n",
    "print(\"Number of edges: \", G.size()) ##number of sent messages in the system\n",
    "print(\"Density of the transaction graph: \",nx.classes.function.density(G))"
   ]
  },
  {
   "cell_type": "code",
   "execution_count": 38,
   "metadata": {},
   "outputs": [],
   "source": [
    "noMsgsPerNodes = []\n",
    "for u in G.nodes:\n",
    "    for v in G.nodes:\n",
    "        if u!=v and G.number_of_edges(u,v)!=0:\n",
    "            noMsgsPerNodes.append(G.number_of_edges(u,v))\n",
    "noMsgsPerNodes2 = []\n",
    "for u in I.nodes:\n",
    "    for v in I.nodes:\n",
    "        if u!=v and I.number_of_edges(u,v)!=0:\n",
    "            noMsgsPerNodes2.append(I.number_of_edges(u,v))\n",
    "\n"
   ]
  },
  {
   "cell_type": "code",
   "execution_count": 51,
   "metadata": {},
   "outputs": [
    {
     "data": {
      "image/png": "[encoded data removed]",
      "text/plain": [
       "<Figure size 432x288 with 1 Axes>"
      ]
     },
     "metadata": {
      "needs_background": "light"
     },
     "output_type": "display_data"
    }
   ],
   "source": [
    "plt.hist(noMsgsPerNodes2,bins=len(set(noMsgsPerNodes2)),color = \"blue\", ec=\"blue\", rwidth = 1, alpha=0.5, label='EU Mail')\n",
    "plt.hist(noMsgsPerNodes, bins=len(set(noMsgsPerNodes)), color = \"red\", ec=\"red\",rwidth = 1, alpha=0.7, label='College IM')\n",
    "plt.xscale('log')\n",
    "plt.yscale('log')\n",
    "plt.xlabel('Count')\n",
    "plt.ylabel('Messages')\n",
    "#plt.title('Number of messages between pairs of nodes')\n",
    "plt.tight_layout()\n",
    "plt.legend(loc='upper right')\n",
    "plt.savefig(\"messagesBetweenPairs.pdf\")\n",
    "plt.show()"
   ]
  },
  {
   "cell_type": "code",
   "execution_count": 49,
   "metadata": {},
   "outputs": [
    {
     "data": {
      "image/png": "[encoded data removed]",
      "text/plain": [
       "<Figure size 432x288 with 1 Axes>"
      ]
     },
     "metadata": {
      "needs_background": "light"
     },
     "output_type": "display_data"
    }
   ],
   "source": [
    "inDegrees = []\n",
    "inDegrees2 = []\n",
    "for k,v in G.in_degree():\n",
    "    inDegrees.append(v)\n",
    "    \n",
    "for k,v in I.in_degree():\n",
    "    inDegrees2.append(v)\n",
    "degree_sequenceA = sorted(inDegrees,reverse=True)  # degree sequence\n",
    "degree_sequence2A = sorted(inDegrees2,reverse=True)\n",
    "degreeCount = collections.Counter(degree_sequence)\n",
    "d = {}\n",
    "for k,v in degreeCount.items():\n",
    "    d[k]=v\n",
    "\n",
    "with open('degreeInDistCollegeMsgs.txt', 'w') as fp:\n",
    "    json.dump(d, fp)\n",
    "\n",
    "deg, cnt = zip(*degreeCount.items())\n",
    "\n",
    "plt.plot(degree_sequenceA,'b+',marker='x',label=\"EU Mail\")\n",
    "plt.plot(degree_sequence2A,'r+',marker='+',label=\"College IM\")\n",
    "#plt.bar(deg, cnt, color=\"b\")\n",
    "\n",
    "#plt.title(\"InDegree Distributions\")\n",
    "plt.ylabel(\"Count\")\n",
    "plt.xlabel(\"Degree\")\n",
    "plt.yscale('log')\n",
    "plt.xscale('log')\n",
    "plt.legend()\n",
    "plt.tight_layout()\n",
    "plt.savefig(\"inDegreeHistograms.pdf\")\n",
    "plt.show()"
   ]
  },
  {
   "cell_type": "code",
   "execution_count": 50,
   "metadata": {},
   "outputs": [
    {
     "data": {
      "image/png": "[encoded data removed]",
      "text/plain": [
       "<Figure size 432x288 with 1 Axes>"
      ]
     },
     "metadata": {
      "needs_background": "light"
     },
     "output_type": "display_data"
    }
   ],
   "source": [
    "outDegrees = []\n",
    "outDegrees2 = []\n",
    "for k,v in G.out_degree():\n",
    "    outDegrees.append(v)\n",
    "    \n",
    "for k,v in I.out_degree():\n",
    "    outDegrees2.append(v)\n",
    "degree_sequence = sorted(outDegrees,reverse=True)  # degree sequence\n",
    "degree_sequence2 = sorted(outDegrees2,reverse=True)\n",
    "\n",
    "degreeCount = collections.Counter(degree_sequence)\n",
    "d = {}\n",
    "for k,v in degreeCount.items():\n",
    "    d[k]=v\n",
    "\n",
    "with open('degreeOutDistEUMail.txt', 'w') as fp:\n",
    "    json.dump(d, fp)\n",
    "\n",
    "deg, cnt = zip(*degreeCount.items())\n",
    "\n",
    "#plt.bar(deg, cnt, color=\"b\")\n",
    "plt.plot(degree_sequence,'b+',marker='x',label=\"EU Mail\")\n",
    "plt.plot(degree_sequence2,'r+',marker='+',label=\"College IM\")\n",
    "\n",
    "#plt.title(\"OutDegree Distributions\")\n",
    "plt.ylabel(\"Count\")\n",
    "plt.xlabel(\"Degree\")\n",
    "plt.yscale('log')\n",
    "plt.xscale('log')\n",
    "plt.legend()\n",
    "plt.tight_layout()\n",
    "plt.savefig(\"outDegreeHistograms.pdf\")\n",
    "plt.show()"
   ]
  },
  {
   "cell_type": "code",
   "execution_count": 209,
   "metadata": {},
   "outputs": [
    {
     "data": {
      "application/vnd.jupyter.widget-view+json": {
       "model_id": "23a010b142c74b2a95c738646a8b4516",
       "version_major": 2,
       "version_minor": 0
      },
      "text/plain": [
       "  0%|          | 0/10 [00:00<?, ?it/s]"
      ]
     },
     "metadata": {},
     "output_type": "display_data"
    },
    {
     "data": {
      "application/vnd.jupyter.widget-view+json": {
       "model_id": "52747e67b4c744af972dd5ab118858b0",
       "version_major": 2,
       "version_minor": 0
      },
      "text/plain": [
       "  0%|          | 0/10 [00:00<?, ?it/s]"
      ]
     },
     "metadata": {},
     "output_type": "display_data"
    },
    {
     "data": {
      "application/vnd.jupyter.widget-view+json": {
       "model_id": "9543c39943ae4a479ac0372b05802fa9",
       "version_major": 2,
       "version_minor": 0
      },
      "text/plain": [
       "  0%|          | 0/10 [00:00<?, ?it/s]"
      ]
     },
     "metadata": {},
     "output_type": "display_data"
    },
    {
     "data": {
      "application/vnd.jupyter.widget-view+json": {
       "model_id": "3a4b189980614cb8b395455a03535298",
       "version_major": 2,
       "version_minor": 0
      },
      "text/plain": [
       "  0%|          | 0/10 [00:00<?, ?it/s]"
      ]
     },
     "metadata": {},
     "output_type": "display_data"
    },
    {
     "data": {
      "application/vnd.jupyter.widget-view+json": {
       "model_id": "ce601b559f39490582c2864ad721693a",
       "version_major": 2,
       "version_minor": 0
      },
      "text/plain": [
       "  0%|          | 0/10 [00:00<?, ?it/s]"
      ]
     },
     "metadata": {},
     "output_type": "display_data"
    },
    {
     "data": {
      "application/vnd.jupyter.widget-view+json": {
       "model_id": "b00e486b20c44b55abc413dd1a6e2193",
       "version_major": 2,
       "version_minor": 0
      },
      "text/plain": [
       "  0%|          | 0/10 [00:00<?, ?it/s]"
      ]
     },
     "metadata": {},
     "output_type": "display_data"
    },
    {
     "data": {
      "application/vnd.jupyter.widget-view+json": {
       "model_id": "33b55a0e2983464ab55937650e1b4f78",
       "version_major": 2,
       "version_minor": 0
      },
      "text/plain": [
       "  0%|          | 0/10 [00:00<?, ?it/s]"
      ]
     },
     "metadata": {},
     "output_type": "display_data"
    },
    {
     "data": {
      "application/vnd.jupyter.widget-view+json": {
       "model_id": "3b44467db1f6443cb41c581faaad103b",
       "version_major": 2,
       "version_minor": 0
      },
      "text/plain": [
       "  0%|          | 0/10 [00:00<?, ?it/s]"
      ]
     },
     "metadata": {},
     "output_type": "display_data"
    },
    {
     "name": "stdout",
     "output_type": "stream",
     "text": [
      "[[2.50000000e-01 1.56250000e-01 7.54394531e-02 1.97586934e-02\n",
      "  1.34421797e-03 6.12358339e-06 1.26095989e-10 5.32649493e-20\n",
      "  9.48649106e-39 3.00626887e-76]\n",
      " [3.75000000e-01 3.33984375e-01 2.82649040e-01 2.03989722e-01\n",
      "  1.05457807e-01 2.80719001e-02 1.98523632e-03 9.91920739e-06\n",
      "  2.47514207e-10 1.54079085e-19]\n",
      " [4.37500000e-01 4.24682617e-01 4.07355811e-01 3.74261032e-01\n",
      "  3.15197840e-01 2.23313436e-01 1.12031491e-01 2.81885553e-02\n",
      "  1.78434819e-03 7.14930685e-06]\n",
      " [4.68750000e-01 4.65202332e-01 4.60330766e-01 4.50351498e-01\n",
      "  4.30763785e-01 3.93984678e-01 3.29528436e-01 2.30508450e-01\n",
      "  1.12786784e-01 2.70017978e-02]\n",
      " [4.84375000e-01 4.83443737e-01 4.82161845e-01 4.79470454e-01\n",
      "  4.74052407e-01 4.63360551e-01 4.42676446e-01 4.04028626e-01\n",
      "  3.36557359e-01 2.33534343e-01]\n",
      " [4.92187500e-01 4.91949052e-01 4.91620862e-01 4.90925153e-01\n",
      "  4.89515185e-01 4.86696768e-01 4.81103290e-01 4.70105895e-01\n",
      "  4.48858302e-01 4.09200167e-01]\n",
      " [4.96093750e-01 4.96033428e-01 4.95950436e-01 4.95773780e-01\n",
      "  4.95415106e-01 4.94695774e-01 4.93258867e-01 4.90396879e-01\n",
      "  4.84722288e-01 4.73569170e-01]\n",
      " [4.98046875e-01 4.98031706e-01 4.98010841e-01 4.97966344e-01\n",
      "  4.97875954e-01 4.97694520e-01 4.97331499e-01 4.96606076e-01\n",
      "  4.95158316e-01 4.92275402e-01]]\n"
     ]
    }
   ],
   "source": [
    "## Sender unlinkability advantage\n",
    "noOfUsers=11 ##2^20\n",
    "minFalsePositiveRate = 9\n",
    "allProbs = np.zeros((minFalsePositiveRate,noOfUsers-1)) #advantage of the sender unlinkability adversary\n",
    "probability = np.zeros((noOfUsers-1))\n",
    "for p in range(1,minFalsePositiveRate):\n",
    "    falsePosRate = math.pow(2,-p)\n",
    "    for l in tqdm(range(0,noOfUsers-1)):\n",
    "        U = 2**l ##number of all users in the system\n",
    "        sumprob = np.float64(0.0)\n",
    "        for i in range(0,U+1):\n",
    "            for j in range(0,U+1):    \n",
    "            #usersInAnonSet = math.floor(2**(-p+k))\n",
    "            #print(p,k,allUsers,usersInAnonSet)\n",
    "                prob = np.float64(1.0)\n",
    "                probij = np.float64(1.0)\n",
    "                probij = comb(U, i, exact=True)*comb(U, j, exact=True)*math.pow(falsePosRate,i+j)*math.pow(1-falsePosRate,2*U-i-j)\n",
    "                for k in range(1,j+1):\n",
    "                    if U-i-k<0:\n",
    "                        prob = 0\n",
    "                        break\n",
    "                    prob *= (U-i-k)\n",
    "                    prob /= U\n",
    "                sumprob += prob * probij\n",
    "                #print(U,falsePosRate,i,j,prob,probij)\n",
    "        probability[l]=sumprob*0.5\n",
    "        #print(\"Users: \",U,\" False Positive Rate: \",falsePosRate,\" Prob: \",sumprob*0.5)\n",
    "    allProbs[p]=probability\n",
    "allProbs = allProbs[1:]\n",
    "print(allProbs)"
   ]
  },
  {
   "cell_type": "code",
   "execution_count": 210,
   "metadata": {},
   "outputs": [
    {
     "data": {
      "image/png": "[encoded data removed]",
      "text/plain": [
       "<Figure size 432x288 with 2 Axes>"
      ]
     },
     "metadata": {
      "needs_background": "light"
     },
     "output_type": "display_data"
    }
   ],
   "source": [
    "x_axis_labels = [\"$2^1$\",\"$2^2$\",\"$2^3$\",\"$2^4$\",\"$2^5$\",\"$2^6$\",\"$2^7$\",\"$2^8$\",\"$2^9$\",\"$2^{10}$\"]\n",
    "                 ##\"$2^{11}$\",\"$2^{12}$\",\"$2^{13}$\",\"$2^{14}$\",\"$2^{15}$\",\"$2^{16}$\",\"$2^{17}$\",\"$2^{18}$\",\"$2^{19}$\"]\n",
    "##x_axis_labels = [2**(i+1) for i in range(0,19)]\n",
    "#y_axis_labels = [math.pow(2,-(i)) for i in range(1,10)]\n",
    "y_axis_labels = [\"$2^{-1}$\",\"$2^{-2}$\",\"$2^{-3}$\",\"$2^{-4}$\",\"$2^{-5}$\",\"$2^{-6}$\",\"$2^{-7}$\",\"$2^{-8}$\"]#,\"$2^{-9}$\"]\n",
    "ax = sns.heatmap(allProbs,xticklabels=x_axis_labels, yticklabels = y_axis_labels,cbar_kws={'label': 'Adversary\\'s advantage in the RU game'})\n",
    "plt.xticks(rotation = 45)\n",
    "plt.yticks(rotation = 0)\n",
    "#ax.set_title('Receiver Unlinkability Adversarial Advantage')\n",
    "plt.xlabel(\"Number of all users\")\n",
    "plt.ylabel(\"Recipients' false positive rate\")\n",
    "plt.tight_layout()\n",
    "plt.savefig(\"receiverUnlinkability.pdf\")\n",
    "plt.show()"
   ]
  },
  {
   "cell_type": "code",
   "execution_count": 3,
   "metadata": {},
   "outputs": [
    {
     "name": "stdout",
     "output_type": "stream",
     "text": [
      "[[  9.  13.  17.  22.  26.  32.  40.  52.  78.]\n",
      " [ 14.  21.  27.  34.  41.  50.  63.  82. 123.]\n",
      " [ 20.  29.  38.  48.  58.  71.  88. 116. 173.]\n",
      " [ 28.  41.  54.  67.  82. 100. 125. 163. 245.]\n",
      " [ 43.  65.  85. 106. 129. 158. 197. 258. 387.]\n",
      " [ 61.  92. 120. 149. 183. 224. 279. 365. 547.]\n",
      " [ 86. 129. 169. 211. 258. 316. 394. 516. 773.]]\n"
     ]
    }
   ],
   "source": [
    "## Relationship Anonymity\n",
    "noOfSentMessages=[100,250,500,1000,2500,5000,10000] ##out(s) in the paper\n",
    "incomingMsgsFromS = np.arange(1,1000) ##tag_s(v) in the paper\n",
    "falsePositives = [0.1,0.2,0.3,0.4,0.5,0.6,0.7,0.8,0.9]\n",
    "detectableMsgs = np.zeros((len(noOfSentMessages),len(falsePositives)))\n",
    "for p in falsePositives:\n",
    "    for allSent in noOfSentMessages:\n",
    "        for incomingFromS in incomingMsgsFromS:\n",
    "            if allSent < incomingFromS:\n",
    "                continue\n",
    "            mu0 = allSent*p ##the expected number of links in the \"cover\" graph\n",
    "            X = (allSent-incomingFromS)*p + incomingFromS\n",
    "            s = math.sqrt(p*(1-p)*allSent)\n",
    "            z = (X-mu0)/(float)(s) ##Z-score\n",
    "            p_values = scipy.stats.norm.sf(abs(z))*2 #twosided\n",
    "            if p_values < 0.01:\n",
    "                detectableMsgs[noOfSentMessages.index(allSent)][falsePositives.index(p)] = int(incomingFromS)\n",
    "                #print(\"DETECTABLE\",p,allSent,incomingFromS)\n",
    "                break\n",
    "print(detectableMsgs)"
   ]
  },
  {
   "cell_type": "code",
   "execution_count": 208,
   "metadata": {},
   "outputs": [
    {
     "data": {
      "image/png": "[encoded data removed]",
      "text/plain": [
       "<Figure size 432x288 with 2 Axes>"
      ]
     },
     "metadata": {
      "needs_background": "light"
     },
     "output_type": "display_data"
    }
   ],
   "source": [
    "y_axis_labels = [\"$10000$\",\"$5000$\",\"$2500$\",\"$1000$\",\"$500$\",\"$250$\",\"$100$\"]\n",
    "y_axis_labels.reverse()\n",
    "##x_axis_labels = [2**(i+1) for i in range(0,19)]\n",
    "#y_axis_labels = [math.pow(2,-(i)) for i in range(1,10)]\n",
    "x_axis_labels = [\"$0.1$\", \"$0.2$\", \"$0.3$\", \"$0.4$\", \"$0.5$\", \"$0.6$\", \"$0.7$\", \"$0.8$\", \"$0.9$\"]\n",
    "ax = sns.heatmap(detectableMsgs, fmt='g',annot=True, mask=detectableMsgs < 1,xticklabels=x_axis_labels, yticklabels = y_axis_labels,  cbar_kws={'label': 'Messages from sender to recipient'})\n",
    "plt.xticks(rotation = 45)\n",
    "plt.yticks(rotation = 0)\n",
    "#ax.set_title('No. of messages from a sender to a recipient \\n breaking relationship anonymity for $100 <= out(s)$')\n",
    "plt.xlabel(\"Recipient's false positive rate\")\n",
    "plt.ylabel(\"Sender's sent messages\")\n",
    "plt.tight_layout()\n",
    "plt.savefig(\"relationshipAnonymity.pdf\")\n",
    "plt.show()"
   ]
  },
  {
   "cell_type": "code",
   "execution_count": 6,
   "metadata": {},
   "outputs": [
    {
     "name": "stdout",
     "output_type": "stream",
     "text": [
      "[[ 4.  6.  7.  9.  0.  0.  0.  0.  0.]\n",
      " [ 4.  6.  8. 10. 12. 15.  0.  0.  0.]\n",
      " [ 5.  7.  9. 11. 13. 16. 20.  0.  0.]\n",
      " [ 5.  7. 10. 12. 14. 18. 22.  0.  0.]\n",
      " [ 6.  8. 10. 13. 16. 19. 24.  0.  0.]]\n"
     ]
    }
   ],
   "source": [
    "## Relationship Anonymity vol. 2.\n",
    "noOfSentMessages=[10,15,20,25,30] ##out(s) in the paper\n",
    "incomingMsgsFromS = np.arange(1,30) ##tag_s(v) in the paper\n",
    "falsePositives = [0.1,0.2,0.3,0.4,0.5, 0.6, 0.7, 0.8, 0.9]\n",
    "detectableMsgs = np.zeros((len(noOfSentMessages),len(falsePositives))) #advantage of the sender unlinkability adversary\n",
    "for p in falsePositives:\n",
    "    for allSent in noOfSentMessages:\n",
    "        for incomingFromS in incomingMsgsFromS:\n",
    "            if allSent < incomingFromS:\n",
    "                continue\n",
    "            mu0 = allSent*p\n",
    "            X = (allSent-incomingFromS)*p + incomingFromS\n",
    "            s = math.sqrt(p*(1-p)*allSent)\n",
    "            t = (X-mu0)/(float)(s) ##t-score\n",
    "            p_values = scipy.stats.t.sf(np.abs(t), allSent-1)*2 #two-sided\n",
    "            if p_values < 0.01:\n",
    "                detectableMsgs[noOfSentMessages.index(allSent)][falsePositives.index(p)] = int(incomingFromS)\n",
    "                #print(p,allSent,incomingFromS)\n",
    "                if incomingFromS!=1:\n",
    "                    #print(\"DETECTABLE\",p,allSent,incomingFromS)\n",
    "                    break\n",
    "print(detectableMsgs)"
   ]
  },
  {
   "cell_type": "code",
   "execution_count": 206,
   "metadata": {},
   "outputs": [
    {
     "data": {
      "image/png": "[encoded data removed]",
      "text/plain": [
       "<Figure size 432x288 with 2 Axes>"
      ]
     },
     "metadata": {
      "needs_background": "light"
     },
     "output_type": "display_data"
    }
   ],
   "source": [
    "y_axis_labels = [\"$30$\",\"$25$\",\"$20$\",\"$15$\",\"$10$\"]\n",
    "y_axis_labels.reverse()\n",
    "##x_axis_labels = [2**(i+1) for i in range(0,19)]\n",
    "#y_axis_labels = [math.pow(2,-(i)) for i in range(1,10)]\n",
    "x_axis_labels = [\"$0.1$\", \"$0.2$\", \"$0.3$\", \"$0.4$\", \"$0.5$\", \"$0.6$\", \"$0.7$\", \"$0.8$\",\"$0.9$\"]\n",
    "ax = sns.heatmap(detectableMsgs,annot=True, mask=detectableMsgs < 1,xticklabels=x_axis_labels, yticklabels = y_axis_labels, cbar_kws={'label': 'Messages from sender to recipient'})\n",
    "plt.xticks(rotation = 45)\n",
    "plt.yticks(rotation = 0)\n",
    "#ax.set_title('No. of messages from a sender to a recipient \\n breaking relationship anonymity for $out(s)<=30$')\n",
    "plt.xlabel(\"Recipient's false positive rate\")\n",
    "plt.ylabel(\"Sender's sent messages\")\n",
    "plt.tight_layout()\n",
    "plt.savefig(\"relationshipAnonymity2.pdf\")\n",
    "plt.show()"
   ]
  },
  {
   "cell_type": "code",
   "execution_count": 4,
   "metadata": {},
   "outputs": [
    {
     "data": {
      "application/vnd.jupyter.widget-view+json": {
       "model_id": "e7a194b5a0e44dcc9c21d4686b4116b9",
       "version_major": 2,
       "version_minor": 0
      },
      "text/plain": [
       "  0%|          | 0/986 [00:00<?, ?it/s]"
      ]
     },
     "metadata": {},
     "output_type": "display_data"
    }
   ],
   "source": [
    "## Setting randomly false positive rates to FMD users!\n",
    "falsePositiveRates = [pow(2,-k) for k in range(1,8)]\n",
    "for u in tqdm(G.nodes):\n",
    "    randIndex = random.randint(0,len(falsePositiveRates)-1)\n",
    "    G.nodes[u]['falsePos']=falsePositiveRates[randIndex]"
   ]
  },
  {
   "cell_type": "code",
   "execution_count": 5,
   "metadata": {},
   "outputs": [
    {
     "name": "stdout",
     "output_type": "stream",
     "text": [
      "{'falsePos': 0.0078125}\n"
     ]
    }
   ],
   "source": [
    "#coverG.clear()\n",
    "coverG = G.copy() ##this graph will contain all the \"cover\" edges thanks to FMD according to recipients' false positive rates\n",
    "print(G.nodes['5'])"
   ]
  },
  {
   "cell_type": "code",
   "execution_count": 6,
   "metadata": {},
   "outputs": [
    {
     "data": {
      "application/vnd.jupyter.widget-view+json": {
       "model_id": "ae69fa917b2e4633adabc86eb580c551",
       "version_major": 2,
       "version_minor": 0
      },
      "text/plain": [
       "  0%|          | 0/332334 [00:00<?, ?it/s]"
      ]
     },
     "metadata": {},
     "output_type": "display_data"
    }
   ],
   "source": [
    "for msg in tqdm(G.edges):\n",
    "    for recipient in G.nodes()-msg[1]: ##for the original recipient we already have an edge in the cover graph\n",
    "        recFalsePos = G.nodes[recipient]['falsePos']\n",
    "        #randNum = random.uniform(0, 1)\n",
    "        randNum = np.random.uniform(0,1)\n",
    "        if randNum <= recFalsePos:\n",
    "            coverG.add_edge(msg[0],recipient,weight=1996)   "
   ]
  },
  {
   "cell_type": "code",
   "execution_count": 7,
   "metadata": {},
   "outputs": [
    {
     "name": "stdout",
     "output_type": "stream",
     "text": [
      "Number of nodes :  986\n",
      "Number of edges:  47660077\n",
      "Density of the transaction graph:  49.07288536979644\n"
     ]
    }
   ],
   "source": [
    "print(\"Number of nodes : \", coverG.order())\n",
    "print(\"Number of edges: \", coverG.size())\n",
    "print(\"Density of the transaction graph: \",nx.classes.function.density(coverG))"
   ]
  },
  {
   "cell_type": "code",
   "execution_count": 12,
   "metadata": {},
   "outputs": [
    {
     "data": {
      "application/vnd.jupyter.widget-view+json": {
       "model_id": "89ccef4d1453422ea20f3ad906c17192",
       "version_major": 2,
       "version_minor": 0
      },
      "text/plain": [
       "  0%|          | 0/986 [00:00<?, ?it/s]"
      ]
     },
     "metadata": {},
     "output_type": "display_data"
    },
    {
     "name": "stdout",
     "output_type": "stream",
     "text": [
      "Precision: 0.22158931365076817\n",
      "Recall: 0.3875675296428822\n",
      "5524 19405 619730 8729\n",
      "Number of irrelevants: 14253\n"
     ]
    }
   ],
   "source": [
    "##Let's uncover the social graph using statistical tests (Z- and t-tests)!\n",
    "##Relationship anonymity analysis\n",
    "##Hereby we assume the server knows the number of sent messages per users.\n",
    "##This is the case when FMD is deployed without an additional layer of anonymous communication system (e.g. Tor)\n",
    "relevants = 0\n",
    "truePositives = 0\n",
    "trueNegatives = 0\n",
    "falseNegatives = 0\n",
    "falsePositives = 0\n",
    "w, h = 7, 13;\n",
    "tPDetailed = [[0 for x in range(h)] for x in range(w)] \n",
    "tNDetailed = [[0 for x in range(h)] for y in range(w)] \n",
    "fNDetailed = [[0 for x in range(h)] for y in range(w)] \n",
    "fPDetailed = [[0 for x in range(h)] for y in range(w)] \n",
    "for u in tqdm(G.nodes):     \n",
    "    allLinks = coverG.out_degree(u)\n",
    "    neighbors = list(coverG.neighbors(u)) ##this is the neighbors the server sees\n",
    "    for v in neighbors:\n",
    "        flags = coverG.number_of_edges(u,v)\n",
    "        p = G.nodes[v]['falsePos']\n",
    "        mu0 = G.out_degree(u)*p ##in the paper we also call this ideal rate\n",
    "        s = math.sqrt(G.out_degree(u)*p*(1-p))\n",
    "        z = (flags-mu0)/s\n",
    "        relatedNodes = False \n",
    "        if 30 < G.out_degree(u):\n",
    "            p_values = scipy.stats.norm.sf(abs(z))*2\n",
    "        else: \n",
    "            p_values = scipy.stats.t.sf(np.abs(z), G.out_degree(u)-1)*2 ##t-test\n",
    "        x = -int(math.log2(p))-1\n",
    "        if 0 < G.number_of_edges(u,v):\n",
    "            y = math.floor(math.log2(G.number_of_edges(u,v)))+1\n",
    "        #print(x,y,G.number_of_edges(u,v))\n",
    "        if p_values < 0.01:\n",
    "            relevants+=1\n",
    "            if 0 < G.number_of_edges(u,v):\n",
    "                relatedNodes = True\n",
    "                truePositives+=1\n",
    "                #print(x,y,G.number_of_edges(u,v))\n",
    "                tPDetailed[x][y] += 1\n",
    "            else:\n",
    "                falseNegatives+=1\n",
    "                fNDetailed[x][y] += 1\n",
    "        else:\n",
    "            if 0==G.number_of_edges(u,v):\n",
    "                trueNegatives+=1\n",
    "                tNDetailed[x][0] += 1\n",
    "            else:\n",
    "                falsePositives+=1 \n",
    "                fPDetailed[x][0] += 1\n",
    "                relatedNodes = True\n",
    "                #print(\"Node\",u,\" and node \",v,\" are connected: \",relatedNodes, mu0,flags,p_values,p,G.number_of_edges(u,v))\n",
    "print(\"Precision:\",truePositives/(truePositives+falsePositives))\n",
    "print(\"Recall:\",truePositives/(truePositives+falseNegatives))\n",
    "print(truePositives, falsePositives, trueNegatives, falseNegatives)\n",
    "print(\"Number of irrelevants:\",relevants)"
   ]
  },
  {
   "cell_type": "code",
   "execution_count": 43,
   "metadata": {},
   "outputs": [
    {
     "name": "stdout",
     "output_type": "stream",
     "text": [
      "[[0, 23, 13, 31, 52, 74, 90, 79, 44, 21, 4, 0, 0], [0, 13, 10, 23, 52, 92, 122, 86, 45, 17, 5, 0, 0], [0, 12, 22, 33, 78, 129, 139, 88, 31, 21, 3, 0, 1], [0, 19, 25, 101, 140, 179, 161, 73, 47, 15, 3, 1, 0], [0, 31, 62, 122, 203, 223, 168, 97, 47, 21, 4, 0, 0], [0, 47, 130, 201, 266, 210, 153, 89, 42, 15, 3, 2, 0], [0, 71, 149, 245, 258, 192, 123, 68, 38, 24, 1, 1, 1]]\n",
      "[[3591, 0, 0, 0, 0, 0, 0, 0, 0, 0, 0, 0, 0], [2955, 0, 0, 0, 0, 0, 0, 0, 0, 0, 0, 0, 0], [2829, 0, 0, 0, 0, 0, 0, 0, 0, 0, 0, 0, 0], [2860, 0, 0, 0, 0, 0, 0, 0, 0, 0, 0, 0, 0], [2746, 0, 0, 0, 0, 0, 0, 0, 0, 0, 0, 0, 0], [2454, 0, 0, 0, 0, 0, 0, 0, 0, 0, 0, 0, 0], [1970, 0, 0, 0, 0, 0, 0, 0, 0, 0, 0, 0, 0]]\n",
      "[[0, 933, 333, 95, 9, 3, 3, 0, 0, 0, 0, 0, 0], [0, 514, 194, 45, 8, 1, 1, 0, 0, 0, 0, 0, 0], [0, 494, 175, 47, 10, 2, 2, 0, 0, 0, 0, 0, 0], [0, 874, 346, 89, 19, 2, 3, 0, 0, 0, 0, 0, 0], [0, 868, 313, 98, 31, 3, 2, 0, 0, 0, 0, 0, 0], [0, 1014, 316, 76, 22, 2, 6, 0, 0, 0, 0, 0, 0], [0, 1121, 450, 148, 46, 5, 6, 0, 0, 0, 0, 0, 0]]\n",
      "[[       nan 0.01568748 0.04563651 0.24380165 0.43965517 0.73333333\n",
      "  1.         1.                nan        nan]\n",
      " [       nan 0.02042099 0.07189015 0.334      0.6031746  0.8041958\n",
      "  1.         1.                nan        nan]\n",
      " [       nan 0.01869445 0.09865471 0.38743455 0.69536424 0.80147059\n",
      "  1.         1.                nan        nan]\n",
      " [       nan 0.02162503 0.13148957 0.40079365 0.72704715 0.78378378\n",
      "  1.         1.                nan        nan]\n",
      " [       nan 0.02473397 0.17550214 0.43484225 0.66725352 0.74850299\n",
      "  1.         1.                nan        nan]\n",
      " [       nan 0.04189128 0.22157638 0.43154246 0.58898305 0.7283237\n",
      "  1.         1.                nan        nan]\n",
      " [       nan 0.05306685 0.23585065 0.40437601 0.57260274 0.55\n",
      "  1.         1.                nan        nan]]\n"
     ]
    },
    {
     "name": "stderr",
     "output_type": "stream",
     "text": [
      "<ipython-input-43-37ba9eca1267>:10: RuntimeWarning: invalid value encountered in true_divide\n",
      "  print(TP/(TP+FN))\n"
     ]
    }
   ],
   "source": [
    "#TP =  np.array(tPDetailed)\n",
    "#FP = np.array(fPDetailed)\n",
    "#FN = np.array(fNDetailed)\n",
    "TP = TP1+TP2+TP3\n",
    "FP = FP1+FP2+FP3\n",
    "FN = FN1+FN2+FN3\n",
    "print(tPDetailed)\n",
    "print(fPDetailed)\n",
    "print(fNDetailed)\n",
    "print(TP/(TP+FN))"
   ]
  },
  {
   "cell_type": "code",
   "execution_count": 29,
   "metadata": {},
   "outputs": [
    {
     "name": "stdout",
     "output_type": "stream",
     "text": [
      "[[   0   51   57  118  102   77   34    9]\n",
      " [   0   65   89  167  152  115   29   10]\n",
      " [   0   61  132  222  210  109   43   12]\n",
      " [   0  103  271  404  293  116   28   12]\n",
      " [   0  172  533  634  379  125   40    8]\n",
      " [   0  373  953  747  417  126   27    9]\n",
      " [   0  693 1396  998  418  121   30    6]]\n",
      "[[8083   51   57  118  102   77   34    9]\n",
      " [8334   65   89  167  152  115   29   10]\n",
      " [7663   61  132  222  210  109   43   12]\n",
      " [7412  103  271  404  293  116   28   12]\n",
      " [6814  172  533  634  379  125   40    8]\n",
      " [6351  373  953  747  417  126   27    9]\n",
      " [4935  693 1396  998  418  121   30    6]]\n",
      "[[0. 1. 1. 1. 1. 1. 1. 1.]\n",
      " [0. 1. 1. 1. 1. 1. 1. 1.]\n",
      " [0. 1. 1. 1. 1. 1. 1. 1.]\n",
      " [0. 1. 1. 1. 1. 1. 1. 1.]\n",
      " [0. 1. 1. 1. 1. 1. 1. 1.]\n",
      " [0. 1. 1. 1. 1. 1. 1. 1.]\n",
      " [0. 1. 1. 1. 1. 1. 1. 1.]]\n"
     ]
    }
   ],
   "source": [
    "TPFP = TP+FP\n",
    "TPFP = np.delete(TPFP, -1, axis=1)\n",
    "TPFP = np.delete(TPFP, -1, axis=1)\n",
    "TP = np.delete(TP, -1, axis=1)\n",
    "TP = np.delete(TP, -1, axis=1)\n",
    "print(TP)\n",
    "print(TPFP)\n",
    "print(TP/TPFP)"
   ]
  },
  {
   "cell_type": "code",
   "execution_count": 7,
   "metadata": {},
   "outputs": [],
   "source": [
    "##Results for RA simulations\n",
    "Precision = np.array([[0, 1, 1, 1, 1, 1, 1, 1],\n",
    " [0, 1, 1, 1, 1, 1, 1, 1],\n",
    " [0, 1, 1, 1, 1, 1, 1, 1],\n",
    " [0, 1, 1, 1, 1, 1, 1, 1],\n",
    " [0, 1, 1, 1, 1, 1, 1, 1],\n",
    " [0, 1, 1, 1, 1, 1, 1, 1],\n",
    " [0, 1, 1, 1, 1, 1, 1, 1]])\n",
    "TP0 = np.array([[   0,  965,  564,  271,  104,   30,    8,    1],\n",
    " [   0,  911,  508,  233,  117,   38,   11,    2],\n",
    " [   0, 810,  475,  238,   86,   25,    7,    5],\n",
    " [   0,  676, 453,  260,  126,   45,   12,    9],\n",
    " [   0,  631,  391,  214,   96,   37,    6,    1],\n",
    " [   0,  731, 617,  300,  130,   56,    8,    1],\n",
    " [   0, 1110,  832,  416,  153,   42,   13,    3]])\n",
    "TPFP0 = np.array([[ 706,  965,  564,  271,  104,   30,    8,    1],\n",
    " [1125,  911,  508,  233,  117,   38,   11,    2],\n",
    " [1376,  810,  475,  238,   86,   25,    7,    5],\n",
    " [1716,  676,  453,  260,  126,   45,   12,    9],\n",
    " [1169,  631,  391,  214,   96,   37,    6,    1],\n",
    " [ 794,  731,  617,  300,  130,   56,    8,    1],\n",
    " [ 632, 1110,  832,  416,  153,   42,   13,    3]])\n",
    "TPFN0 = np.array([[68165, 24383,  7836,  2259,   538,     8,     1],\n",
    " [51837, 18141,  6288,  1863,   444,    11,     2],\n",
    " [47262, 16374,  5911,  1651,   219,     7,     5],\n",
    " [55712, 20369,  6956,  1746,   345,    12,     9],\n",
    " [56478, 20648,  6978,  1637,   345,     6,     1],\n",
    " [66252, 24655,  8275,  1982,   411,     8,     1],\n",
    " [99878, 36749, 12126,  2749,   572,    13,     3]])\n",
    "TP2 = np.array([[0, 17, 18, 46, 44, 31, 13, 3, 0, 0], [0, 31, 30, 62, 59, 36, 7, 4, 0, 0], [0, 16, 45, 70, 66, 33, 11, 3, 0, 0], [0, 30, 73, 134, 94, 40, 7, 4, 0, 0], [0, 60, 205, 207, 122, 31, 17, 3, 0, 0], [0, 109, 297, 228, 148, 45, 13, 3, 0, 0], [0, 241, 485, 325, 128, 40, 9, 2, 0, 0]])\n",
    "FP2 = np.array([[2986, 0, 0, 0, 0, 0, 0, 0, 0, 0], [2668, 0, 0, 0, 0, 0, 0, 0, 0, 0], [2515, 0, 0, 0, 0, 0, 0, 0, 0, 0], [2364, 0, 0, 0, 0, 0, 0, 0, 0, 0], [2341, 0, 0, 0, 0, 0, 0, 0, 0, 0], [1983, 0, 0, 0, 0, 0, 0, 0, 0, 0], [1694, 0, 0, 0, 0, 0, 0, 0, 0, 0]])\n",
    "FN2 = np.array([[0, 1051, 400, 118, 35, 10, 0, 0, 0, 0], [0, 1170, 441, 113, 43, 12, 0, 0, 0, 0], [0, 1031, 400, 133, 35, 7, 0, 0, 0, 0], [0, 1515, 591, 203, 37, 14, 0, 0, 0, 0], [0, 2307, 833, 297, 59, 16, 0, 0, 0, 0], [0, 2592, 1056, 303, 88, 12, 0, 0, 0, 0], [0, 4068, 1433, 486, 89, 27, 0, 0, 0, 0]])\n",
    "TP1 = np.array([[0, 21, 16, 41, 29, 27, 13, 2, 0, 0], [0, 19, 37, 63, 45, 38, 11, 4, 0, 0], [0, 22, 32, 57, 48, 21, 16, 4, 0, 0], [0, 38, 108, 144, 105, 43, 14, 4, 0, 0], [0, 62, 171, 235, 148, 63, 8, 1, 0, 0], [0, 113, 296, 236, 113, 45, 7, 3, 0, 0], [0, 226, 486, 358, 170, 34, 8, 4, 0, 0]])\n",
    "FP1 = np.array([[2815, 0, 0, 0, 0, 0, 0, 0, 0, 0], [3090, 0, 0, 0, 0, 0, 0, 0, 0, 0], [1947, 0, 0, 0, 0, 0, 0, 0, 0, 0], [2651, 0, 0, 0, 0, 0, 0, 0, 0, 0], [2274, 0, 0, 0, 0, 0, 0, 0, 0, 0], [2008, 0, 0, 0, 0, 0, 0, 0, 0, 0], [1702, 0, 0, 0, 0, 0, 0, 0, 0, 0]])\n",
    "FN1 = np.array([[0, 1176, 438, 139, 53, 10, 0, 0, 0, 0], [0, 973, 379, 110, 30, 8, 0, 0, 0, 0], [0, 1008, 377, 102, 27, 13, 0, 0, 0, 0], [0, 1614, 592, 207, 43, 12, 0, 0, 0, 0], [0, 2273, 820, 265, 59, 14, 0, 0, 0, 0], [0, 2970, 1112, 350, 94, 18, 0, 0, 0, 0], [0, 4091, 1527, 483, 110, 31, 0, 0, 0, 0]])\n",
    "TP3 = np.array([[0, 13, 23, 31, 29, 19, 8, 4, 0, 0], [0, 15, 22, 42, 48, 41, 11, 2, 0, 0], [0, 23, 55, 95, 96, 55, 16, 5, 0, 0], [0, 35, 90, 126, 94, 33, 7, 4, 0, 0], [0, 50, 157, 192, 109, 31, 15, 4, 0, 0], [0, 151, 360, 283, 156, 36, 7, 3, 0, 0], [0, 226, 425, 315, 120, 47, 13, 0, 0, 0]])\n",
    "FP3 = np.array([[2282, 0, 0, 0, 0, 0, 0, 0, 0, 0], [2576, 0, 0, 0, 0, 0, 0, 0, 0, 0], [3201, 0, 0, 0, 0, 0, 0, 0, 0, 0], [2397, 0, 0, 0, 0, 0, 0, 0, 0, 0], [2199, 0, 0, 0, 0, 0, 0, 0, 0, 0], [2360, 0, 0, 0, 0, 0, 0, 0, 0, 0], [1539, 0, 0, 0, 0, 0, 0, 0, 0, 0]])\n",
    "FN3 = np.array([[0, 973, 354, 109, 42, 8, 0, 0, 0, 0], [0, 975, 329, 110, 27, 8, 0, 0, 0, 0], [0, 1163, 429, 116, 30, 7, 0, 0, 0, 0], [0, 1531, 607, 194, 30, 6, 0, 0, 0, 0], [0, 2202, 851, 262, 71, 12, 0, 0, 0, 0], [0, 2969, 1180, 331, 109, 17, 0, 0, 0, 0], [0, 4207, 1563, 501, 113, 41, 0, 0, 0, 0]])\n",
    "## EUmailResults\n",
    "#[[0.         0.         0.         0.         0.         0.  0.        ]\n",
    "# [0.02405858 0.02466793 0.02371542 0.0212766  0.03448276 0.04429783 0.05956376]\n",
    "# [0.03757225 0.04901961 0.11167513 0.06738544 0.16533333 0.29147982 0.24874791]\n",
    "# [0.24603175 0.33823529 0.4125     0.53157895 0.55454545 0.72563177 0.62340967]\n",
    "# [0.85245902 0.86666667 0.88636364 0.88050314 0.86752137 0.92361111 0.84868421]\n",
    "# [0.96103896 0.98924731 0.98473282 0.98895028 0.98672566 0.99056604 0.97461929]\n",
    "# [0.96774194 0.99186992 0.9858156  0.98170732 0.98823529 0.96226415 0.95348837]]"
   ]
  },
  {
   "cell_type": "code",
   "execution_count": 49,
   "metadata": {},
   "outputs": [
    {
     "name": "stdout",
     "output_type": "stream",
     "text": [
      "[[0.         0.         0.         0.         0.         0.\n",
      "  0.        ]\n",
      " [0.01568748 0.02042099 0.01869445 0.02162503 0.02473397 0.04189128\n",
      "  0.05306685]\n",
      " [0.04563651 0.07189015 0.09865471 0.13148957 0.17550214 0.22157638\n",
      "  0.23585065]\n",
      " [0.24380165 0.334      0.38743455 0.40079365 0.43484225 0.43154246\n",
      "  0.40437601]\n",
      " [0.43965517 0.6031746  0.69536424 0.72704715 0.66725352 0.58898305\n",
      "  0.57260274]\n",
      " [0.73333333 0.8041958  0.80147059 0.78378378 0.74850299 0.7283237\n",
      "  0.55      ]\n",
      " [1.         1.         1.         1.         1.         1.\n",
      "  1.        ]]\n"
     ]
    },
    {
     "name": "stderr",
     "output_type": "stream",
     "text": [
      "<ipython-input-49-1eefaa5d92de>:4: RuntimeWarning: invalid value encountered in true_divide\n",
      "  recall = TP/(TP+FN)\n"
     ]
    }
   ],
   "source": [
    "#FN = np.delete(FN, -1, axis=1)\n",
    "#FN = np.delete(FN, -1, axis=1)\n",
    "#FN = np.delete(FN, 0, axis=1)\n",
    "recall = TP/(TP+FN)\n",
    "recall = np.delete(recall,-1,axis=1)\n",
    "recall = np.delete(recall,-1,axis=1)\n",
    "recall = np.delete(recall,-1,axis=1)\n",
    "recall = np.transpose(recall)\n",
    "recall[0] = np.array([0,0,0,0,0,0,0])\n",
    "print(recall)\n"
   ]
  },
  {
   "cell_type": "code",
   "execution_count": 13,
   "metadata": {},
   "outputs": [
    {
     "name": "stderr",
     "output_type": "stream",
     "text": [
      "<ipython-input-13-45993b6c3c66>:34: UserWarning: FixedFormatter should only be used together with FixedLocator\n",
      "  ax.set_xticklabels(x_axis_labels)\n",
      "<ipython-input-13-45993b6c3c66>:35: UserWarning: FixedFormatter should only be used together with FixedLocator\n",
      "  ax.set_yticklabels(y_axis_labels)\n"
     ]
    },
    {
     "data": {
      "image/png": "[encoded data removed]",
      "text/plain": [
       "<Figure size 432x432 with 1 Axes>"
      ]
     },
     "metadata": {
      "needs_background": "light"
     },
     "output_type": "display_data"
    }
   ],
   "source": [
    "#recall = TP/(TP+FN)\n",
    "recall = Precision\n",
    "recall = np.delete(recall,-1,axis=1)\n",
    "recall = np.transpose(recall)\n",
    "recall = np.round(recall,3)\n",
    "size = 7\n",
    "# Limits for the extent\n",
    "x_start = 0.0\n",
    "x_end = 7\n",
    "y_start = 0.0\n",
    "y_end = 7\n",
    "\n",
    "fig = plt.figure(figsize=(6, 6))\n",
    "ax = fig.add_subplot(111)\n",
    "#ax.set_title('Recall')\n",
    "ax.set_aspect('equal')\n",
    "# Add the text\n",
    "jump_x = (x_end - x_start) / (2.0 * size)-0.5\n",
    "jump_y = (y_end - y_start) / (2.0 * size)-0.5\n",
    "x_positions = np.linspace(start=x_start, stop=x_end, num=size, endpoint=False)\n",
    "y_positions = np.linspace(start=y_start, stop=y_end, num=size, endpoint=False)\n",
    "\n",
    "for y_index, y in enumerate(y_positions):\n",
    "    for x_index, x in enumerate(x_positions):\n",
    "        label = recall[y_index, x_index]\n",
    "        text_x = x + jump_x\n",
    "        text_y = y + jump_y\n",
    "        ax.text(text_x, text_y, label, color='black', ha='center', va='center')\n",
    "        \n",
    "y_axis_labels = [\"$2^{0}$-$2^{1}$\",\"$0$-$2^{0}$\",\"$2^{1}$-$2^{2}$\",\"$2^{2}$-$2^{3}$\",\"$2^{3}$-$2^{4}$\",\"$2^{4}$-$2^{5}$\",\"$2^{5}$-$2^{6}$\",\"$2^{6}$<\"]\n",
    "x_axis_labels = [\"$2^{0}$\",\"$2^{-1}$\", \"$2^{-2}$\", \"$2^{-3}$\", \"$2^{-4}$\", \"$2^{-5}$\", \"$2^{-6}$\", \"$2^{-7}$\"]\n",
    "\n",
    "plt.imshow(recall)\n",
    "ax.set_xticklabels(x_axis_labels)\n",
    "ax.set_yticklabels(y_axis_labels)\n",
    "plt.xlabel(\"False-positive rate of the recipient\")\n",
    "plt.ylabel(\"Number of messages between sender and recipient\")\n",
    "#plt.title(\"College IM\")\n",
    "plt.tight_layout()\n",
    "plt.savefig(\"precisionGranularCollegeIM.pdf\")\n",
    "plt.show()"
   ]
  },
  {
   "cell_type": "code",
   "execution_count": 10,
   "metadata": {},
   "outputs": [
    {
     "data": {
      "image/png": "[encoded data removed]",
      "text/plain": [
       "<Figure size 432x288 with 1 Axes>"
      ]
     },
     "metadata": {
      "needs_background": "light"
     },
     "output_type": "display_data"
    }
   ],
   "source": [
    "## College results\n",
    "## Precision: 0.1692057942057942\n",
    "## Recall: 0.19295122819508723\n",
    "## Number of nodes :  1899\n",
    "## Number of messages : 59835\n",
    "## Density of the message graph:  0.016600995144136092\n",
    "## Number of \"cover\" edges:  16095322\n",
    "## Density of the cover message graph:  4.4655864020273555\n",
    "## Number of edges:  16354849\n",
    "## Density of the transaction graph:  4.537591189639492\n",
    "\n",
    "## College results with t-tests\n",
    "## Precision: 0.18141505715411904\n",
    "## Recall: 0.1453382805715639\n",
    "## TP: 3682 FP: 16614 TN: 1394619 FN: 21652\n",
    "## Number of relevants: 25334\n",
    "\n",
    "## EU results\n",
    "## Precision: 0.22809780356402817\n",
    "## Recall: 0.41361689336439467\n",
    "## Number of nodes :  986\n",
    "## Number of messages: 332334\n",
    "## Number of cover edges:  47708341\n",
    "## Density of the cover message graph:  49.12258008051812\n",
    "## TP:5504 FP:18626 TN:537578 FN:7803\n",
    "## Number of irrelevants: 369\n",
    "\n",
    "## EU results with t-tests\n",
    "## Precision: 0.2294115287416262\n",
    "## Recall: 0.39184652278177456\n",
    "## TP:5719 FP:19210 TN:619865 FN:8876\n",
    "## Number of relevants: 14595\n",
    "collegeMsgRAPrecisions = np.array([0.18141505715411904,0.19087504927079227,0.18200630666141113,0.19570358691367756])\n",
    "collegeMsgRARecalls = np.array([0.1453382805715639,0.15141684580809067,0.15223573047599423,0.15904540722351246])\n",
    "collegeMsgDeniabilityPrecisions = np.array([0.9627473806752037,0.9616766467065868,0.9629629629629629,0.9636576787807737,\n",
    "                                  0.9614485981308412,0.9638273045507585,0.9657210401891253,0.9626168224299065,\n",
    "                                           0.9628339140534262,0.9637002341920374])\n",
    "collegeMsgDeniabilityRecalls = np.array([0.7525022747952684,0.7306642402183804,0.7333939945404914,0.7479526842584168,\n",
    "                               0.7488626023657871,0.7515923566878981,0.7434030937215651,0.7497725204731575,\n",
    "                                        0.7543221110100091,0.7488626023657871])\n",
    "euMsgRAPrecisions = np.array([0.2294115287416262])\n",
    "euMsgRARecalls = np.array([0.39184652278177456])\n",
    "euMsgDeniabilityPrecisions = np.array([0.9394736842105263,0.9432432432432433,0.9335180055401662,0.9388297872340425,\n",
    "                                      0.946524064171123,0.9436619718309859,0.9424657534246575,0.9394736842105263,\n",
    "                                      0.9392265193370166,0.945054945054945])\n",
    "euMsgDeniabilityRecalls = np.array([0.5063829787234042,0.4950354609929078,0.47801418439716314,0.500709219858156,\n",
    "                                   0.502127659574468,0.475177304964539,0.4879432624113475,0.5063829787234042,\n",
    "                                    0.48226950354609927,0.4879432624113475])\n",
    "\n",
    "\n",
    "# Calculate the average\n",
    "collegeMsgRAPrecisionsMean = np.mean(collegeMsgRAPrecisions)\n",
    "collegeMsgRARecallsMean = np.mean(collegeMsgRARecalls)\n",
    "collegeMsgDeniabilityPrecisionsMean = np.mean(collegeMsgDeniabilityPrecisions)\n",
    "collegeMsgDeniabilityRecallsMean = np.mean(collegeMsgDeniabilityRecalls)\n",
    "euMsgRAPrecisionsMean = np.mean(euMsgRAPrecisions)\n",
    "euMsgRARecallsMean = np.mean(euMsgRARecalls)\n",
    "euMsgDeniabilityPrecisionsMean = np.mean(euMsgDeniabilityPrecisions)\n",
    "euMsgDeniabilityRecallsMean = np.mean(euMsgDeniabilityRecalls)\n",
    "\n",
    "\n",
    "# Calculate the standard deviation\n",
    "collegeMsgRAPrecisionsStd = np.std(collegeMsgRAPrecisions)\n",
    "collegeMsgRARecallsStd = np.std(collegeMsgRARecalls)\n",
    "collegeMsgDeniabilityPrecisionsStd = np.std(collegeMsgDeniabilityPrecisions)\n",
    "collegeMsgDeniabilityRecallsStd = np.std(collegeMsgDeniabilityRecalls)\n",
    "euMsgRAPrecisionsStd = np.std(euMsgRAPrecisions)\n",
    "euMsgRARecallsStd = np.std(euMsgRARecalls)\n",
    "euMsgDeniabilityPrecisionsStd = np.std(euMsgDeniabilityPrecisions)\n",
    "euMsgDeniabilityRecallsStd = np.std(euMsgDeniabilityRecalls)\n",
    "\n",
    "length = 4\n",
    "x_labels = ['Rel.Anonymity\\n Precision', 'Rel.Anonymity\\n Recall', 'Temp. Det. Amb.\\n Precision','Temp. Det. Amb.\\n Recall']\n",
    "\n",
    "# Set plot parameters\n",
    "fig, ax = plt.subplots()\n",
    "width = 0.45 # width of bar\n",
    "x = np.arange(length)\n",
    "\n",
    "collegeMeans = np.array([collegeMsgRAPrecisionsMean,collegeMsgRARecallsMean,collegeMsgDeniabilityPrecisionsMean,collegeMsgDeniabilityRecallsMean], dtype=float)\n",
    "euMeans = np.array([euMsgRAPrecisionsMean, euMsgRARecallsMean, euMsgDeniabilityPrecisionsMean, euMsgDeniabilityRecallsMean], dtype=float)\n",
    "\n",
    "ax.bar(x, collegeMeans, width, color='red', label='College IM', yerr=np.array([collegeMsgRAPrecisionsStd,collegeMsgRARecallsStd,collegeMsgDeniabilityPrecisionsStd,collegeMsgDeniabilityRecallsStd], dtype=float))\n",
    "ax.bar(x + width, euMeans, width, color='blue', label='EU Mail', yerr=np.array([euMsgRAPrecisionsStd,euMsgRARecallsStd,euMsgDeniabilityPrecisionsStd,euMsgDeniabilityRecallsStd], dtype=float))\n",
    "\n",
    "ax.set_ylabel('')\n",
    "ax.set_ylim(0,1)\n",
    "ax.set_xticks(x + width/2)\n",
    "ax.set_xticklabels(x_labels)\n",
    "ax.yaxis.grid(True)\n",
    "#ax.set_xlabel('Scenario')\n",
    "ax.set_title('Performance Evaluation of the Statistical Attacks')\n",
    "ax.legend()\n",
    "plt.grid(True, 'major', 'y', ls='--', lw=.5, c='k', alpha=.6)\n",
    "\n",
    "fig.tight_layout()\n",
    "plt.savefig('evaluation.pdf')\n",
    "plt.show()"
   ]
  },
  {
   "cell_type": "code",
   "execution_count": 10,
   "metadata": {},
   "outputs": [
    {
     "name": "stdout",
     "output_type": "stream",
     "text": [
      "13838\n"
     ]
    }
   ],
   "source": [
    "H = nx.Graph(G)\n",
    "print(len(list(H.edges)))"
   ]
  },
  {
   "cell_type": "code",
   "execution_count": 105,
   "metadata": {},
   "outputs": [
    {
     "data": {
      "application/vnd.jupyter.widget-view+json": {
       "model_id": "4424672314b340739fa7768dd1903b69",
       "version_major": 2,
       "version_minor": 0
      },
      "text/plain": [
       "  0%|          | 0/332334 [00:00<?, ?it/s]"
      ]
     },
     "metadata": {},
     "output_type": "display_data"
    },
    {
     "name": "stdout",
     "output_type": "stream",
     "text": [
      "1000\n",
      "2000\n",
      "3000\n",
      "4000\n",
      "5000\n",
      "6000\n",
      "7000\n",
      "8000\n",
      "9000\n",
      "10000\n",
      "11000\n",
      "12000\n",
      "13000\n",
      "14000\n",
      "15000\n",
      "16000\n",
      "17000\n",
      "18000\n",
      "19000\n",
      "20000\n",
      "21000\n",
      "22000\n",
      "23000\n",
      "24000\n",
      "25000\n",
      "344 20 5 361\n",
      "Precision: 0.945054945054945\n",
      "Recall: 0.4879432624113475\n"
     ]
    }
   ],
   "source": [
    "## Temporal Uniformity of Detection\n",
    "## We build the graph edge by edge adding also the cover (fuzzy edges) and try to predict\n",
    "## whether a node has received a message given only the fuzzy edges\n",
    "G.clear()\n",
    "#file1 = open('../datasets/CollegeMsg.txt', 'r')\n",
    "file1 = open('../datasets/email-Eu-core-temporal.txt','r')\n",
    "Lines = file1.readlines()\n",
    "\n",
    "G = nx.MultiDiGraph() ## this is the graph with also the \"cover/fuzzy\" edges\n",
    "H = nx.MultiDiGraph() ## this is the graph that only contains the edges of the real messages\n",
    "\n",
    "minFp = 8\n",
    "falsePositiveRates = [pow(2,-k) for k in range(1,minFp)]\n",
    "msgCount = 0\n",
    "truePositivesDetectionRates = []\n",
    "truePositivesDegrees = []\n",
    "falsePositivesDetectionRates = []\n",
    "falsePositivesDegrees = []\n",
    "truePositives = 0\n",
    "trueNegatives = 0\n",
    "falseNegatives = 0\n",
    "falsePositives = 0\n",
    "receivedMsg = []\n",
    "for line in tqdm(Lines):\n",
    "    msgCount += 1\n",
    "    myLine = line.split(',')\n",
    "    if myLine[0] not in G:\n",
    "        randIndex = random.randint(0,len(falsePositiveRates)-1)\n",
    "        G.add_node(myLine[0],falsePos=falsePositiveRates[randIndex])\n",
    "        H.add_node(myLine[0])\n",
    "    if myLine[1] not in G:\n",
    "        randIndex = random.randint(0,len(falsePositiveRates)-1)\n",
    "        G.add_node(myLine[1],falsePos=falsePositiveRates[randIndex])\n",
    "        H.add_node(myLine[1])\n",
    "    G.add_edge(myLine[0],myLine[1], weight=myLine[2])\n",
    "    H.add_edge(myLine[0],myLine[1], weight=myLine[2])\n",
    "    receivedMsg.append(myLine[1])   \n",
    "    ## add cover edges probabilistically for all the other nodes for this message\n",
    "    for u in G:\n",
    "        if u!=myLine[0] and u!=myLine[1]:\n",
    "            recFalsePos =G.nodes[str(u)]['falsePos']\n",
    "            randNum = np.random.uniform(0,1)\n",
    "            if randNum <= recFalsePos:\n",
    "                G.add_edge(myLine[0],u,weight=1996)\n",
    "                \n",
    "    if msgCount % 1000 == 0:\n",
    "        print(msgCount)\n",
    "                \n",
    "    if msgCount == 25000:\n",
    "        break     \n",
    "for u in G:\n",
    "    flags = G.in_degree(u)\n",
    "    p = G.nodes[str(u)]['falsePos']\n",
    "    mu0 = msgCount*p ##in the paper we also call this ideal rate\n",
    "    s = math.sqrt(msgCount*p*(1-p))\n",
    "    z = (flags-mu0)/s\n",
    "    p_values = scipy.stats.norm.sf(abs(z))\n",
    "    if p_values < 0.01:\n",
    "        if u in receivedMsg:\n",
    "            truePositives+=1\n",
    "            truePositivesDetectionRates.append(p)\n",
    "            truePositivesDegrees.append(H.degree(u))\n",
    "        else:\n",
    "            falsePositives+=1\n",
    "            falsePositivesDetectionRates.append(p)\n",
    "            falsePositivesDegrees.append(H.degree(u))\n",
    "    else:\n",
    "        if u in receivedMsg:\n",
    "            falseNegatives+=1\n",
    "        else:\n",
    "            trueNegatives+=1\n",
    "print(truePositives,falsePositives,trueNegatives,falseNegatives)\n",
    "print(\"Precision:\",truePositives/(truePositives+falsePositives))\n",
    "print(\"Recall:\",truePositives/(truePositives+falseNegatives))"
   ]
  },
  {
   "cell_type": "code",
   "execution_count": null,
   "metadata": {},
   "outputs": [],
   "source": [
    "## Detection ambiguity up to 25000 messages\n",
    "## Results for EU core e-mail: TP: 350 FP:22 TN:3 FN:355\n",
    "## Results for the college IM: TP: 810 FP: 31 TN:6 FN:289"
   ]
  },
  {
   "cell_type": "code",
   "execution_count": 211,
   "metadata": {},
   "outputs": [
    {
     "name": "stdout",
     "output_type": "stream",
     "text": [
      "[[0.002 0.011 0.075 0.5   0.5   0.5   0.5   0.5  ]\n",
      " [0.    0.    0.006 0.028 0.127 0.5   0.5   0.5  ]\n",
      " [0.    0.    0.    0.002 0.011 0.075 0.5   0.5  ]\n",
      " [0.    0.    0.    0.    0.    0.006 0.028 0.127]\n",
      " [0.    0.    0.    0.    0.    0.    0.002 0.011]]\n"
     ]
    }
   ],
   "source": [
    "##Detection ambiguity and temporal uniformity of detection\n",
    "allMessages = [1000,10000,100000,1000000,10000000]\n",
    "sentOutMsgs = [5,10,25,50,100,250,500,1000]\n",
    "maxSentMessages = 100\n",
    "detectableTrueMsgs = np.zeros((len(allMessages),len(sentOutMsgs)))\n",
    "for N in allMessages:\n",
    "    for m in sentOutMsgs:\n",
    "        for p in np.arange(0.5,0.001,-0.001):\n",
    "            sigma=math.sqrt(p*(1-p)*N)\n",
    "            if 3*sigma < m:\n",
    "                detectableTrueMsgs[allMessages.index(N)][sentOutMsgs.index(m)]=p\n",
    "                break\n",
    "print(detectableTrueMsgs)"
   ]
  },
  {
   "cell_type": "code",
   "execution_count": 212,
   "metadata": {},
   "outputs": [
    {
     "data": {
      "image/png": "[encoded data removed]",
      "text/plain": [
       "<Figure size 432x288 with 2 Axes>"
      ]
     },
     "metadata": {
      "needs_background": "light"
     },
     "output_type": "display_data"
    }
   ],
   "source": [
    "y_axis_labels = [\"$10^3$\",\"$10^4$\",\"$10^5$\",\"$10^6$\",\"$10^7$\"]\n",
    "x_axis_labels = [\"$5$\", \"$10$\", \"$25$\", \"$50$\", \"$100$\", \"$250$\", \"$500$\",\"$1000$\"]\n",
    "ax = sns.heatmap(detectableTrueMsgs, annot=True, mask=detectableTrueMsgs < 0.00001,xticklabels=x_axis_labels, yticklabels = y_axis_labels, cbar_kws={'label': 'False positive rate'})\n",
    "ax.set_facecolor('xkcd:black')\n",
    "plt.xticks(rotation = 45)\n",
    "plt.yticks(rotation = 0)\n",
    "#ax.set_title('Smallest detection rates achieving detection ambiguity')\n",
    "plt.ylabel(\"All messages stored on the server\")\n",
    "plt.xlabel(\"User's incoming messages\")\n",
    "plt.tight_layout()\n",
    "plt.savefig(\"detectionAmbiguity.pdf\")\n",
    "plt.show()"
   ]
  },
  {
   "cell_type": "code",
   "execution_count": 4,
   "metadata": {},
   "outputs": [
    {
     "data": {
      "application/vnd.jupyter.widget-view+json": {
       "model_id": "8180d1683bcb4959af8a9ddbb6760c2f",
       "version_major": 2,
       "version_minor": 0
      },
      "text/plain": [
       "  0%|          | 0/59835 [00:00<?, ?it/s]"
      ]
     },
     "metadata": {},
     "output_type": "display_data"
    },
    {
     "name": "stdout",
     "output_type": "stream",
     "text": [
      "59835 1025 4354\n"
     ]
    }
   ],
   "source": [
    "userId = '1624' ##it has an in_degree 558\n",
    "userFalsePositiveRate = math.pow(2,-7)\n",
    "timestamps = [] ##contains the timestamp of all the messages\n",
    "userTimestamps = []\n",
    "userIncomingMessages = []\n",
    "userTimestampsFrequent = []\n",
    "for edge in tqdm(G.edges(data=True)):\n",
    "    if edge[2]['weight'] == 1996: ##these are cover edges, we are not interested in them at this point\n",
    "        continue\n",
    "    else: \n",
    "        timestamps.append(int(edge[2]['weight'].rstrip()))\n",
    "    if edge[1]==userId:\n",
    "        userIncomingMessages.append(int(edge[2]['weight'].rstrip()))\n",
    "        userTimestamps.append(int(edge[2]['weight'].rstrip()))\n",
    "        userTimestampsFrequent.append(int(edge[2]['weight'].rstrip()))\n",
    "    else: \n",
    "        randNum = np.random.uniform(0,1)\n",
    "        if randNum <= userFalsePositiveRate:\n",
    "            userTimestamps.append(int(edge[2]['weight'].rstrip()))\n",
    "        if randNum <= 8*userFalsePositiveRate:\n",
    "            userTimestampsFrequent.append(int(edge[2]['weight'].rstrip()))\n",
    "print(len(timestamps),len(userTimestamps),len(userTimestampsFrequent))"
   ]
  },
  {
   "cell_type": "code",
   "execution_count": 9,
   "metadata": {},
   "outputs": [
    {
     "data": {
      "image/png": "[encoded data removed]",
      "text/plain": [
       "<Figure size 432x288 with 1 Axes>"
      ]
     },
     "metadata": {
      "needs_background": "light"
     },
     "output_type": "display_data"
    }
   ],
   "source": [
    "plt.hist(timestamps, color = \"red\",density=True,bins=100,alpha=0.5,label=\"All messages\")\n",
    "plt.hist(userTimestampsFrequent,color = \"blue\",density=True, bins=100, alpha=0.5, label='User #1624, $p=2^{-4}$')\n",
    "plt.hist(userTimestamps,color = \"green\",density=True, bins=100, alpha=0.5, label='User #1624, $p=2^{-7}$')\n",
    "plt.hist(userIncomingMessages,color=\"orange\",density=True,bins=100,alpha=0.5,label='User #1624, $p=0$')\n",
    "plt.legend(loc='best')\n",
    "plt.ylabel('Probability')\n",
    "plt.xlabel('Time')\n",
    "plt.title('Detection ambiguity in a time interval')\n",
    "locs, labels = plt.xticks()\n",
    "plt.xticks(locs[1:-1],[datetime.datetime.fromtimestamp(t).strftime(\"%Y/%m\") for t in locs][1:-1], rotation='0')\n",
    "plt.tight_layout()\n",
    "plt.savefig(\"detectionAmbiguityinEpoch.pdf\")\n",
    "plt.show()"
   ]
  }
 ],
 "metadata": {
  "kernelspec": {
   "display_name": "Python 3",
   "language": "python",
   "name": "python3"
  },
  "language_info": {
   "codemirror_mode": {
    "name": "ipython",
    "version": 3
   },
   "file_extension": ".py",
   "mimetype": "text/x-python",
   "name": "python",
   "nbconvert_exporter": "python",
   "pygments_lexer": "ipython3",
   "version": "3.9.0"
  }
 },
 "nbformat": 4,
 "nbformat_minor": 4
}
